{
  "nbformat": 4,
  "nbformat_minor": 0,
  "metadata": {
    "colab": {
      "provenance": []
    },
    "kernelspec": {
      "name": "python3",
      "display_name": "Python 3"
    },
    "language_info": {
      "name": "python"
    }
  },
  "cells": [
    {
      "cell_type": "markdown",
      "source": [
        "# **Exploratory Data Analysis of Classic Cars for Restoration and Auction**"
      ],
      "metadata": {
        "id": "F28jMjFcLyE8"
      }
    },
    {
      "cell_type": "markdown",
      "source": [
        "# Business Context\n",
        "\n",
        "The client is a classic car restorer and auction house with operations located in about seven(7) countries in Europe.\n",
        "\n",
        "This dataset provides comprehensive details about various classic cars. Key features of this dataset include details relating the following:\n",
        "\n",
        "-Manufacturing details(name, model year and origin)\n",
        "\n",
        "-Performance metrics of the cars(MPG, horsepower and acceleration)\n",
        "\n",
        "-Physical Characteristics(weight, cylinders and displacement)\n",
        "\n",
        "The client aims to understand the characteristics of different car models. The goal is to gain insights into factors affecting car performance, efficiency, and origin, which can inform strategic decisions related to product development, marketing, and competitive positioning.\n",
        "\n",
        "The client also aims to use this data to understand the trends in the automotive industry during the 1970s and early 1980s. This will also help the department of resoration understand the most common engine configurations of various classic cars from all over the world over time.\n",
        "\n",
        "\n",
        "\n",
        "The dataset was obtained from kaggle.com and the link is\n",
        "https://www.kaggle.com/datasets/whenamancodes/automobiles-project-dataset"
      ],
      "metadata": {
        "id": "V1SIdb4BQM6T"
      }
    },
    {
      "cell_type": "markdown",
      "source": [
        "# Objective\n",
        "\n",
        "As a data scientist, the goal is to clean and explore the data and provide answers to the business questions that the client has posed.\n",
        "The results will also be visualized in order to facilitate understanding and interpretation of the results."
      ],
      "metadata": {
        "id": "55AtH7ILYDo4"
      }
    },
    {
      "cell_type": "markdown",
      "source": [
        "# Business Questions\n",
        "\n",
        "1. What is the most common number of cylinders and calculate the average MPG for cars with that number.\n",
        "2. What are the top 3 car manufacturers with highest average horsepower?\n",
        "3. What is the percentage of cars with above-average MPG for each origin?\n",
        "4. What is the range of weights for cars from each origin.\n",
        "5. Which year had the largest improvement in average MPG compared to the previous year?"
      ],
      "metadata": {
        "id": "ERNjTkT7ZSak"
      }
    },
    {
      "cell_type": "markdown",
      "source": [
        "# Data Loading and Initial Exploration\n",
        "Before answering the questions posed by the client, the data must be loaded then the first five(5) rows displayed. The column names and data types will also be displayed.\n",
        "\n",
        "After that, missing values in each column will be determined. Duplicate values (if any) will be identified."
      ],
      "metadata": {
        "id": "sTAQdxwKc-ul"
      }
    },
    {
      "cell_type": "code",
      "source": [
        "import pandas as pd\n",
        "import numpy as np\n",
        "import matplotlib.pyplot as plt\n",
        "import seaborn as sns"
      ],
      "metadata": {
        "id": "U5XuvHNWxjA4"
      },
      "execution_count": null,
      "outputs": []
    },
    {
      "cell_type": "code",
      "source": [
        "df_org = pd.read_csv('Automobile.csv')\n",
        "print(\"First 5 rows of the dataset:\")\n",
        "df_org.head()"
      ],
      "metadata": {
        "colab": {
          "base_uri": "https://localhost:8080/",
          "height": 366
        },
        "id": "ha3ArsFzxpzx",
        "outputId": "b2422c0b-b034-486f-ebaa-8096b053301f"
      },
      "execution_count": null,
      "outputs": [
        {
          "output_type": "stream",
          "name": "stdout",
          "text": [
            "First 5 rows of the dataset:\n"
          ]
        },
        {
          "output_type": "execute_result",
          "data": {
            "text/plain": [
              "                        name   mpg  cylinders  displacement  horsepower  \\\n",
              "0  chevrolet chevelle malibu  18.0          8         307.0       130.0   \n",
              "1          buick skylark 320  15.0          8         350.0       165.0   \n",
              "2         plymouth satellite  18.0          8         318.0       150.0   \n",
              "3              amc rebel sst  16.0          8         304.0       150.0   \n",
              "4                ford torino  17.0          8         302.0       140.0   \n",
              "\n",
              "   weight  acceleration  model_year origin  \n",
              "0    3504          12.0          70    usa  \n",
              "1    3693          11.5          70    usa  \n",
              "2    3436          11.0          70    usa  \n",
              "3    3433          12.0          70    usa  \n",
              "4    3449          10.5          70    usa  "
            ],
            "text/html": [
              "\n",
              "  <div id=\"df-e6c9eb39-9a1c-4259-8004-12168eadbd24\" class=\"colab-df-container\">\n",
              "    <div>\n",
              "<style scoped>\n",
              "    .dataframe tbody tr th:only-of-type {\n",
              "        vertical-align: middle;\n",
              "    }\n",
              "\n",
              "    .dataframe tbody tr th {\n",
              "        vertical-align: top;\n",
              "    }\n",
              "\n",
              "    .dataframe thead th {\n",
              "        text-align: right;\n",
              "    }\n",
              "</style>\n",
              "<table border=\"1\" class=\"dataframe\">\n",
              "  <thead>\n",
              "    <tr style=\"text-align: right;\">\n",
              "      <th></th>\n",
              "      <th>name</th>\n",
              "      <th>mpg</th>\n",
              "      <th>cylinders</th>\n",
              "      <th>displacement</th>\n",
              "      <th>horsepower</th>\n",
              "      <th>weight</th>\n",
              "      <th>acceleration</th>\n",
              "      <th>model_year</th>\n",
              "      <th>origin</th>\n",
              "    </tr>\n",
              "  </thead>\n",
              "  <tbody>\n",
              "    <tr>\n",
              "      <th>0</th>\n",
              "      <td>chevrolet chevelle malibu</td>\n",
              "      <td>18.0</td>\n",
              "      <td>8</td>\n",
              "      <td>307.0</td>\n",
              "      <td>130.0</td>\n",
              "      <td>3504</td>\n",
              "      <td>12.0</td>\n",
              "      <td>70</td>\n",
              "      <td>usa</td>\n",
              "    </tr>\n",
              "    <tr>\n",
              "      <th>1</th>\n",
              "      <td>buick skylark 320</td>\n",
              "      <td>15.0</td>\n",
              "      <td>8</td>\n",
              "      <td>350.0</td>\n",
              "      <td>165.0</td>\n",
              "      <td>3693</td>\n",
              "      <td>11.5</td>\n",
              "      <td>70</td>\n",
              "      <td>usa</td>\n",
              "    </tr>\n",
              "    <tr>\n",
              "      <th>2</th>\n",
              "      <td>plymouth satellite</td>\n",
              "      <td>18.0</td>\n",
              "      <td>8</td>\n",
              "      <td>318.0</td>\n",
              "      <td>150.0</td>\n",
              "      <td>3436</td>\n",
              "      <td>11.0</td>\n",
              "      <td>70</td>\n",
              "      <td>usa</td>\n",
              "    </tr>\n",
              "    <tr>\n",
              "      <th>3</th>\n",
              "      <td>amc rebel sst</td>\n",
              "      <td>16.0</td>\n",
              "      <td>8</td>\n",
              "      <td>304.0</td>\n",
              "      <td>150.0</td>\n",
              "      <td>3433</td>\n",
              "      <td>12.0</td>\n",
              "      <td>70</td>\n",
              "      <td>usa</td>\n",
              "    </tr>\n",
              "    <tr>\n",
              "      <th>4</th>\n",
              "      <td>ford torino</td>\n",
              "      <td>17.0</td>\n",
              "      <td>8</td>\n",
              "      <td>302.0</td>\n",
              "      <td>140.0</td>\n",
              "      <td>3449</td>\n",
              "      <td>10.5</td>\n",
              "      <td>70</td>\n",
              "      <td>usa</td>\n",
              "    </tr>\n",
              "  </tbody>\n",
              "</table>\n",
              "</div>\n",
              "    <div class=\"colab-df-buttons\">\n",
              "\n",
              "  <div class=\"colab-df-container\">\n",
              "    <button class=\"colab-df-convert\" onclick=\"convertToInteractive('df-e6c9eb39-9a1c-4259-8004-12168eadbd24')\"\n",
              "            title=\"Convert this dataframe to an interactive table.\"\n",
              "            style=\"display:none;\">\n",
              "\n",
              "  <svg xmlns=\"http://www.w3.org/2000/svg\" height=\"24px\" viewBox=\"0 -960 960 960\">\n",
              "    <path d=\"M120-120v-720h720v720H120Zm60-500h600v-160H180v160Zm220 220h160v-160H400v160Zm0 220h160v-160H400v160ZM180-400h160v-160H180v160Zm440 0h160v-160H620v160ZM180-180h160v-160H180v160Zm440 0h160v-160H620v160Z\"/>\n",
              "  </svg>\n",
              "    </button>\n",
              "\n",
              "  <style>\n",
              "    .colab-df-container {\n",
              "      display:flex;\n",
              "      gap: 12px;\n",
              "    }\n",
              "\n",
              "    .colab-df-convert {\n",
              "      background-color: #E8F0FE;\n",
              "      border: none;\n",
              "      border-radius: 50%;\n",
              "      cursor: pointer;\n",
              "      display: none;\n",
              "      fill: #1967D2;\n",
              "      height: 32px;\n",
              "      padding: 0 0 0 0;\n",
              "      width: 32px;\n",
              "    }\n",
              "\n",
              "    .colab-df-convert:hover {\n",
              "      background-color: #E2EBFA;\n",
              "      box-shadow: 0px 1px 2px rgba(60, 64, 67, 0.3), 0px 1px 3px 1px rgba(60, 64, 67, 0.15);\n",
              "      fill: #174EA6;\n",
              "    }\n",
              "\n",
              "    .colab-df-buttons div {\n",
              "      margin-bottom: 4px;\n",
              "    }\n",
              "\n",
              "    [theme=dark] .colab-df-convert {\n",
              "      background-color: #3B4455;\n",
              "      fill: #D2E3FC;\n",
              "    }\n",
              "\n",
              "    [theme=dark] .colab-df-convert:hover {\n",
              "      background-color: #434B5C;\n",
              "      box-shadow: 0px 1px 3px 1px rgba(0, 0, 0, 0.15);\n",
              "      filter: drop-shadow(0px 1px 2px rgba(0, 0, 0, 0.3));\n",
              "      fill: #FFFFFF;\n",
              "    }\n",
              "  </style>\n",
              "\n",
              "    <script>\n",
              "      const buttonEl =\n",
              "        document.querySelector('#df-e6c9eb39-9a1c-4259-8004-12168eadbd24 button.colab-df-convert');\n",
              "      buttonEl.style.display =\n",
              "        google.colab.kernel.accessAllowed ? 'block' : 'none';\n",
              "\n",
              "      async function convertToInteractive(key) {\n",
              "        const element = document.querySelector('#df-e6c9eb39-9a1c-4259-8004-12168eadbd24');\n",
              "        const dataTable =\n",
              "          await google.colab.kernel.invokeFunction('convertToInteractive',\n",
              "                                                    [key], {});\n",
              "        if (!dataTable) return;\n",
              "\n",
              "        const docLinkHtml = 'Like what you see? Visit the ' +\n",
              "          '<a target=\"_blank\" href=https://colab.research.google.com/notebooks/data_table.ipynb>data table notebook</a>'\n",
              "          + ' to learn more about interactive tables.';\n",
              "        element.innerHTML = '';\n",
              "        dataTable['output_type'] = 'display_data';\n",
              "        await google.colab.output.renderOutput(dataTable, element);\n",
              "        const docLink = document.createElement('div');\n",
              "        docLink.innerHTML = docLinkHtml;\n",
              "        element.appendChild(docLink);\n",
              "      }\n",
              "    </script>\n",
              "  </div>\n",
              "\n",
              "\n",
              "    <div id=\"df-d52ac47c-d503-4dac-9985-fe4d3226dfcc\">\n",
              "      <button class=\"colab-df-quickchart\" onclick=\"quickchart('df-d52ac47c-d503-4dac-9985-fe4d3226dfcc')\"\n",
              "                title=\"Suggest charts\"\n",
              "                style=\"display:none;\">\n",
              "\n",
              "<svg xmlns=\"http://www.w3.org/2000/svg\" height=\"24px\"viewBox=\"0 0 24 24\"\n",
              "     width=\"24px\">\n",
              "    <g>\n",
              "        <path d=\"M19 3H5c-1.1 0-2 .9-2 2v14c0 1.1.9 2 2 2h14c1.1 0 2-.9 2-2V5c0-1.1-.9-2-2-2zM9 17H7v-7h2v7zm4 0h-2V7h2v10zm4 0h-2v-4h2v4z\"/>\n",
              "    </g>\n",
              "</svg>\n",
              "      </button>\n",
              "\n",
              "<style>\n",
              "  .colab-df-quickchart {\n",
              "      --bg-color: #E8F0FE;\n",
              "      --fill-color: #1967D2;\n",
              "      --hover-bg-color: #E2EBFA;\n",
              "      --hover-fill-color: #174EA6;\n",
              "      --disabled-fill-color: #AAA;\n",
              "      --disabled-bg-color: #DDD;\n",
              "  }\n",
              "\n",
              "  [theme=dark] .colab-df-quickchart {\n",
              "      --bg-color: #3B4455;\n",
              "      --fill-color: #D2E3FC;\n",
              "      --hover-bg-color: #434B5C;\n",
              "      --hover-fill-color: #FFFFFF;\n",
              "      --disabled-bg-color: #3B4455;\n",
              "      --disabled-fill-color: #666;\n",
              "  }\n",
              "\n",
              "  .colab-df-quickchart {\n",
              "    background-color: var(--bg-color);\n",
              "    border: none;\n",
              "    border-radius: 50%;\n",
              "    cursor: pointer;\n",
              "    display: none;\n",
              "    fill: var(--fill-color);\n",
              "    height: 32px;\n",
              "    padding: 0;\n",
              "    width: 32px;\n",
              "  }\n",
              "\n",
              "  .colab-df-quickchart:hover {\n",
              "    background-color: var(--hover-bg-color);\n",
              "    box-shadow: 0 1px 2px rgba(60, 64, 67, 0.3), 0 1px 3px 1px rgba(60, 64, 67, 0.15);\n",
              "    fill: var(--button-hover-fill-color);\n",
              "  }\n",
              "\n",
              "  .colab-df-quickchart-complete:disabled,\n",
              "  .colab-df-quickchart-complete:disabled:hover {\n",
              "    background-color: var(--disabled-bg-color);\n",
              "    fill: var(--disabled-fill-color);\n",
              "    box-shadow: none;\n",
              "  }\n",
              "\n",
              "  .colab-df-spinner {\n",
              "    border: 2px solid var(--fill-color);\n",
              "    border-color: transparent;\n",
              "    border-bottom-color: var(--fill-color);\n",
              "    animation:\n",
              "      spin 1s steps(1) infinite;\n",
              "  }\n",
              "\n",
              "  @keyframes spin {\n",
              "    0% {\n",
              "      border-color: transparent;\n",
              "      border-bottom-color: var(--fill-color);\n",
              "      border-left-color: var(--fill-color);\n",
              "    }\n",
              "    20% {\n",
              "      border-color: transparent;\n",
              "      border-left-color: var(--fill-color);\n",
              "      border-top-color: var(--fill-color);\n",
              "    }\n",
              "    30% {\n",
              "      border-color: transparent;\n",
              "      border-left-color: var(--fill-color);\n",
              "      border-top-color: var(--fill-color);\n",
              "      border-right-color: var(--fill-color);\n",
              "    }\n",
              "    40% {\n",
              "      border-color: transparent;\n",
              "      border-right-color: var(--fill-color);\n",
              "      border-top-color: var(--fill-color);\n",
              "    }\n",
              "    60% {\n",
              "      border-color: transparent;\n",
              "      border-right-color: var(--fill-color);\n",
              "    }\n",
              "    80% {\n",
              "      border-color: transparent;\n",
              "      border-right-color: var(--fill-color);\n",
              "      border-bottom-color: var(--fill-color);\n",
              "    }\n",
              "    90% {\n",
              "      border-color: transparent;\n",
              "      border-bottom-color: var(--fill-color);\n",
              "    }\n",
              "  }\n",
              "</style>\n",
              "\n",
              "      <script>\n",
              "        async function quickchart(key) {\n",
              "          const quickchartButtonEl =\n",
              "            document.querySelector('#' + key + ' button');\n",
              "          quickchartButtonEl.disabled = true;  // To prevent multiple clicks.\n",
              "          quickchartButtonEl.classList.add('colab-df-spinner');\n",
              "          try {\n",
              "            const charts = await google.colab.kernel.invokeFunction(\n",
              "                'suggestCharts', [key], {});\n",
              "          } catch (error) {\n",
              "            console.error('Error during call to suggestCharts:', error);\n",
              "          }\n",
              "          quickchartButtonEl.classList.remove('colab-df-spinner');\n",
              "          quickchartButtonEl.classList.add('colab-df-quickchart-complete');\n",
              "        }\n",
              "        (() => {\n",
              "          let quickchartButtonEl =\n",
              "            document.querySelector('#df-d52ac47c-d503-4dac-9985-fe4d3226dfcc button');\n",
              "          quickchartButtonEl.style.display =\n",
              "            google.colab.kernel.accessAllowed ? 'block' : 'none';\n",
              "        })();\n",
              "      </script>\n",
              "    </div>\n",
              "\n",
              "    </div>\n",
              "  </div>\n"
            ],
            "application/vnd.google.colaboratory.intrinsic+json": {
              "type": "dataframe",
              "variable_name": "df_org",
              "summary": "{\n  \"name\": \"df_org\",\n  \"rows\": 398,\n  \"fields\": [\n    {\n      \"column\": \"name\",\n      \"properties\": {\n        \"dtype\": \"string\",\n        \"num_unique_values\": 305,\n        \"samples\": [\n          \"mazda rx-4\",\n          \"ford f108\",\n          \"buick century luxus (sw)\"\n        ],\n        \"semantic_type\": \"\",\n        \"description\": \"\"\n      }\n    },\n    {\n      \"column\": \"mpg\",\n      \"properties\": {\n        \"dtype\": \"number\",\n        \"std\": 7.815984312565782,\n        \"min\": 9.0,\n        \"max\": 46.6,\n        \"num_unique_values\": 129,\n        \"samples\": [\n          17.7,\n          30.5,\n          30.0\n        ],\n        \"semantic_type\": \"\",\n        \"description\": \"\"\n      }\n    },\n    {\n      \"column\": \"cylinders\",\n      \"properties\": {\n        \"dtype\": \"number\",\n        \"std\": 1,\n        \"min\": 3,\n        \"max\": 8,\n        \"num_unique_values\": 5,\n        \"samples\": [\n          4,\n          5,\n          6\n        ],\n        \"semantic_type\": \"\",\n        \"description\": \"\"\n      }\n    },\n    {\n      \"column\": \"displacement\",\n      \"properties\": {\n        \"dtype\": \"number\",\n        \"std\": 104.26983817119581,\n        \"min\": 68.0,\n        \"max\": 455.0,\n        \"num_unique_values\": 82,\n        \"samples\": [\n          122.0,\n          307.0,\n          360.0\n        ],\n        \"semantic_type\": \"\",\n        \"description\": \"\"\n      }\n    },\n    {\n      \"column\": \"horsepower\",\n      \"properties\": {\n        \"dtype\": \"number\",\n        \"std\": 38.49115993282855,\n        \"min\": 46.0,\n        \"max\": 230.0,\n        \"num_unique_values\": 93,\n        \"samples\": [\n          92.0,\n          100.0,\n          52.0\n        ],\n        \"semantic_type\": \"\",\n        \"description\": \"\"\n      }\n    },\n    {\n      \"column\": \"weight\",\n      \"properties\": {\n        \"dtype\": \"number\",\n        \"std\": 846,\n        \"min\": 1613,\n        \"max\": 5140,\n        \"num_unique_values\": 351,\n        \"samples\": [\n          3730,\n          1995,\n          2215\n        ],\n        \"semantic_type\": \"\",\n        \"description\": \"\"\n      }\n    },\n    {\n      \"column\": \"acceleration\",\n      \"properties\": {\n        \"dtype\": \"number\",\n        \"std\": 2.7576889298126757,\n        \"min\": 8.0,\n        \"max\": 24.8,\n        \"num_unique_values\": 95,\n        \"samples\": [\n          14.7,\n          18.0,\n          14.3\n        ],\n        \"semantic_type\": \"\",\n        \"description\": \"\"\n      }\n    },\n    {\n      \"column\": \"model_year\",\n      \"properties\": {\n        \"dtype\": \"number\",\n        \"std\": 3,\n        \"min\": 70,\n        \"max\": 82,\n        \"num_unique_values\": 13,\n        \"samples\": [\n          81,\n          79,\n          70\n        ],\n        \"semantic_type\": \"\",\n        \"description\": \"\"\n      }\n    },\n    {\n      \"column\": \"origin\",\n      \"properties\": {\n        \"dtype\": \"category\",\n        \"num_unique_values\": 3,\n        \"samples\": [\n          \"usa\",\n          \"japan\",\n          \"europe\"\n        ],\n        \"semantic_type\": \"\",\n        \"description\": \"\"\n      }\n    }\n  ]\n}"
            }
          },
          "metadata": {},
          "execution_count": 2
        }
      ]
    },
    {
      "cell_type": "code",
      "source": [
        "print(\"Number of rows and columns of the dataset:\")\n",
        "df_org.shape"
      ],
      "metadata": {
        "colab": {
          "base_uri": "https://localhost:8080/"
        },
        "id": "VuPq_G1eytdJ",
        "outputId": "905a652e-592f-4bd2-ddac-30392c6a6f46"
      },
      "execution_count": null,
      "outputs": [
        {
          "output_type": "stream",
          "name": "stdout",
          "text": [
            "Number of rows and columns of the dataset:\n"
          ]
        },
        {
          "output_type": "execute_result",
          "data": {
            "text/plain": [
              "(398, 9)"
            ]
          },
          "metadata": {},
          "execution_count": 3
        }
      ]
    },
    {
      "cell_type": "code",
      "source": [
        "print(\"Missing values in the dataset:\")\n",
        "df_org.isnull().sum()"
      ],
      "metadata": {
        "colab": {
          "base_uri": "https://localhost:8080/",
          "height": 384
        },
        "id": "v16LVGW5-Y6O",
        "outputId": "45ecfffd-cd82-4a42-e3ca-d778f390a971"
      },
      "execution_count": null,
      "outputs": [
        {
          "output_type": "stream",
          "name": "stdout",
          "text": [
            "Missing values in the dataset:\n"
          ]
        },
        {
          "output_type": "execute_result",
          "data": {
            "text/plain": [
              "name            0\n",
              "mpg             0\n",
              "cylinders       0\n",
              "displacement    0\n",
              "horsepower      6\n",
              "weight          0\n",
              "acceleration    0\n",
              "model_year      0\n",
              "origin          0\n",
              "dtype: int64"
            ],
            "text/html": [
              "<div>\n",
              "<style scoped>\n",
              "    .dataframe tbody tr th:only-of-type {\n",
              "        vertical-align: middle;\n",
              "    }\n",
              "\n",
              "    .dataframe tbody tr th {\n",
              "        vertical-align: top;\n",
              "    }\n",
              "\n",
              "    .dataframe thead th {\n",
              "        text-align: right;\n",
              "    }\n",
              "</style>\n",
              "<table border=\"1\" class=\"dataframe\">\n",
              "  <thead>\n",
              "    <tr style=\"text-align: right;\">\n",
              "      <th></th>\n",
              "      <th>0</th>\n",
              "    </tr>\n",
              "  </thead>\n",
              "  <tbody>\n",
              "    <tr>\n",
              "      <th>name</th>\n",
              "      <td>0</td>\n",
              "    </tr>\n",
              "    <tr>\n",
              "      <th>mpg</th>\n",
              "      <td>0</td>\n",
              "    </tr>\n",
              "    <tr>\n",
              "      <th>cylinders</th>\n",
              "      <td>0</td>\n",
              "    </tr>\n",
              "    <tr>\n",
              "      <th>displacement</th>\n",
              "      <td>0</td>\n",
              "    </tr>\n",
              "    <tr>\n",
              "      <th>horsepower</th>\n",
              "      <td>6</td>\n",
              "    </tr>\n",
              "    <tr>\n",
              "      <th>weight</th>\n",
              "      <td>0</td>\n",
              "    </tr>\n",
              "    <tr>\n",
              "      <th>acceleration</th>\n",
              "      <td>0</td>\n",
              "    </tr>\n",
              "    <tr>\n",
              "      <th>model_year</th>\n",
              "      <td>0</td>\n",
              "    </tr>\n",
              "    <tr>\n",
              "      <th>origin</th>\n",
              "      <td>0</td>\n",
              "    </tr>\n",
              "  </tbody>\n",
              "</table>\n",
              "</div><br><label><b>dtype:</b> int64</label>"
            ]
          },
          "metadata": {},
          "execution_count": 4
        }
      ]
    },
    {
      "cell_type": "code",
      "source": [
        "print(\"Data types of the columns in the dataset:\")\n",
        "df_org.dtypes"
      ],
      "metadata": {
        "colab": {
          "base_uri": "https://localhost:8080/",
          "height": 384
        },
        "id": "ETOIpKat_gRZ",
        "outputId": "822bf490-f04b-4424-a486-3dd21d3e256f"
      },
      "execution_count": null,
      "outputs": [
        {
          "output_type": "stream",
          "name": "stdout",
          "text": [
            "Data types of the columns in the dataset:\n"
          ]
        },
        {
          "output_type": "execute_result",
          "data": {
            "text/plain": [
              "name             object\n",
              "mpg             float64\n",
              "cylinders         int64\n",
              "displacement    float64\n",
              "horsepower      float64\n",
              "weight            int64\n",
              "acceleration    float64\n",
              "model_year        int64\n",
              "origin           object\n",
              "dtype: object"
            ],
            "text/html": [
              "<div>\n",
              "<style scoped>\n",
              "    .dataframe tbody tr th:only-of-type {\n",
              "        vertical-align: middle;\n",
              "    }\n",
              "\n",
              "    .dataframe tbody tr th {\n",
              "        vertical-align: top;\n",
              "    }\n",
              "\n",
              "    .dataframe thead th {\n",
              "        text-align: right;\n",
              "    }\n",
              "</style>\n",
              "<table border=\"1\" class=\"dataframe\">\n",
              "  <thead>\n",
              "    <tr style=\"text-align: right;\">\n",
              "      <th></th>\n",
              "      <th>0</th>\n",
              "    </tr>\n",
              "  </thead>\n",
              "  <tbody>\n",
              "    <tr>\n",
              "      <th>name</th>\n",
              "      <td>object</td>\n",
              "    </tr>\n",
              "    <tr>\n",
              "      <th>mpg</th>\n",
              "      <td>float64</td>\n",
              "    </tr>\n",
              "    <tr>\n",
              "      <th>cylinders</th>\n",
              "      <td>int64</td>\n",
              "    </tr>\n",
              "    <tr>\n",
              "      <th>displacement</th>\n",
              "      <td>float64</td>\n",
              "    </tr>\n",
              "    <tr>\n",
              "      <th>horsepower</th>\n",
              "      <td>float64</td>\n",
              "    </tr>\n",
              "    <tr>\n",
              "      <th>weight</th>\n",
              "      <td>int64</td>\n",
              "    </tr>\n",
              "    <tr>\n",
              "      <th>acceleration</th>\n",
              "      <td>float64</td>\n",
              "    </tr>\n",
              "    <tr>\n",
              "      <th>model_year</th>\n",
              "      <td>int64</td>\n",
              "    </tr>\n",
              "    <tr>\n",
              "      <th>origin</th>\n",
              "      <td>object</td>\n",
              "    </tr>\n",
              "  </tbody>\n",
              "</table>\n",
              "</div><br><label><b>dtype:</b> object</label>"
            ]
          },
          "metadata": {},
          "execution_count": 5
        }
      ]
    },
    {
      "cell_type": "code",
      "source": [
        "print(\"Duplicate values in the dataset:\")\n",
        "df_org.duplicated().sum()"
      ],
      "metadata": {
        "colab": {
          "base_uri": "https://localhost:8080/"
        },
        "id": "8FYVYgnV_nJQ",
        "outputId": "1031fd31-63cd-4fea-f39b-c15fe17f592f"
      },
      "execution_count": null,
      "outputs": [
        {
          "output_type": "stream",
          "name": "stdout",
          "text": [
            "Duplicate values in the dataset:\n"
          ]
        },
        {
          "output_type": "execute_result",
          "data": {
            "text/plain": [
              "np.int64(0)"
            ]
          },
          "metadata": {},
          "execution_count": 6
        }
      ]
    },
    {
      "cell_type": "markdown",
      "source": [
        "# Data Preprocessing\n",
        "Here, data quality issues will be identified.\n",
        "\n",
        "From initial exploration, it can be seen that the 'horsepower' column contains missing values. Due to the nature of the missing values(which is numerical) and also the small number of missing values, the suggested way of handling the missing values is to replace them with the median. After finding the median and replacing the missing values with it, the 'horsepower' column must be verified to ensure that there are no remaining missing values.\n",
        "\n",
        "After it is identified that there are no missing values, the business questions will be answered."
      ],
      "metadata": {
        "id": "b5ACMbxCAHGz"
      }
    },
    {
      "cell_type": "code",
      "source": [
        "print(\"Unique values in the 'horsepower' column before cleaning:\")\n",
        "df_org['horsepower'].unique()"
      ],
      "metadata": {
        "colab": {
          "base_uri": "https://localhost:8080/"
        },
        "id": "I162nlSPAC6U",
        "outputId": "e1788697-a877-459b-8851-2fd6ce14615b"
      },
      "execution_count": null,
      "outputs": [
        {
          "output_type": "stream",
          "name": "stdout",
          "text": [
            "Unique values in the 'horsepower' column before cleaning:\n"
          ]
        },
        {
          "output_type": "execute_result",
          "data": {
            "text/plain": [
              "array([130., 165., 150., 140., 198., 220., 215., 225., 190., 170., 160.,\n",
              "        95.,  97.,  85.,  88.,  46.,  87.,  90., 113., 200., 210., 193.,\n",
              "        nan, 100., 105., 175., 153., 180., 110.,  72.,  86.,  70.,  76.,\n",
              "        65.,  69.,  60.,  80.,  54., 208., 155., 112.,  92., 145., 137.,\n",
              "       158., 167.,  94., 107., 230.,  49.,  75.,  91., 122.,  67.,  83.,\n",
              "        78.,  52.,  61.,  93., 148., 129.,  96.,  71.,  98., 115.,  53.,\n",
              "        81.,  79., 120., 152., 102., 108.,  68.,  58., 149.,  89.,  63.,\n",
              "        48.,  66., 139., 103., 125., 133., 138., 135., 142.,  77.,  62.,\n",
              "       132.,  84.,  64.,  74., 116.,  82.])"
            ]
          },
          "metadata": {},
          "execution_count": 7
        }
      ]
    },
    {
      "cell_type": "markdown",
      "source": [
        "Converting 'horsepower' to numeric, after coercing errors to NaN"
      ],
      "metadata": {
        "id": "2tcHxfrhCItm"
      }
    },
    {
      "cell_type": "code",
      "source": [
        "df_org['horsepower'] = pd.to_numeric(df_org['horsepower'], errors='coerce')\n",
        "\n",
        "print(\"Missing values in the 'horsepower' column after converting to numeric:\")\n",
        "df_org['horsepower'].isnull().sum()"
      ],
      "metadata": {
        "colab": {
          "base_uri": "https://localhost:8080/"
        },
        "id": "LPwkqQZvA75N",
        "outputId": "d58fa0bc-9303-4f82-bed6-0ee654dd86f5"
      },
      "execution_count": null,
      "outputs": [
        {
          "output_type": "stream",
          "name": "stdout",
          "text": [
            "Missing values in the 'horsepower' column after converting to numeric:\n"
          ]
        },
        {
          "output_type": "execute_result",
          "data": {
            "text/plain": [
              "np.int64(6)"
            ]
          },
          "metadata": {},
          "execution_count": 8
        }
      ]
    },
    {
      "cell_type": "markdown",
      "source": [
        "Calculating the median of the 'horsepower' column"
      ],
      "metadata": {
        "id": "h5UQAh4ACW4G"
      }
    },
    {
      "cell_type": "code",
      "source": [
        "median_horsepower = df_org['horsepower'].median()\n",
        "\n",
        "print(\"Median of the 'horsepower' column:\", median_horsepower)"
      ],
      "metadata": {
        "colab": {
          "base_uri": "https://localhost:8080/"
        },
        "id": "ILMMpyKQCcl_",
        "outputId": "4568f69b-cb59-41d1-d360-7f8efde4bb6a"
      },
      "execution_count": null,
      "outputs": [
        {
          "output_type": "stream",
          "name": "stdout",
          "text": [
            "Median of the 'horsepower' column: 93.5\n"
          ]
        }
      ]
    },
    {
      "cell_type": "markdown",
      "source": [
        "Imputing missing values with the median"
      ],
      "metadata": {
        "id": "fHSlyae3CuP8"
      }
    },
    {
      "cell_type": "code",
      "source": [
        "df_org['horsepower'] = df_org['horsepower'].fillna(median_horsepower)\n",
        "\n",
        "print(\"Missing values in the 'horsepower' column after imputing:\")\n",
        "df_org['horsepower'].isnull().sum()"
      ],
      "metadata": {
        "colab": {
          "base_uri": "https://localhost:8080/"
        },
        "id": "s8BbM4P7CsF6",
        "outputId": "8bc865bb-25e5-4e04-aee3-f1920a261008"
      },
      "execution_count": null,
      "outputs": [
        {
          "output_type": "stream",
          "name": "stdout",
          "text": [
            "Missing values in the 'horsepower' column after imputing:\n"
          ]
        },
        {
          "output_type": "execute_result",
          "data": {
            "text/plain": [
              "np.int64(0)"
            ]
          },
          "metadata": {},
          "execution_count": 10
        }
      ]
    },
    {
      "cell_type": "code",
      "source": [
        "print(\"Unique values in the 'horsepower' column after cleaning:\")\n",
        "df_org['horsepower'].unique()"
      ],
      "metadata": {
        "colab": {
          "base_uri": "https://localhost:8080/"
        },
        "id": "RcAbbgERDXj9",
        "outputId": "47902d40-fd37-488d-de05-ebc09a8d098b"
      },
      "execution_count": null,
      "outputs": [
        {
          "output_type": "stream",
          "name": "stdout",
          "text": [
            "Unique values in the 'horsepower' column after cleaning:\n"
          ]
        },
        {
          "output_type": "execute_result",
          "data": {
            "text/plain": [
              "array([130. , 165. , 150. , 140. , 198. , 220. , 215. , 225. , 190. ,\n",
              "       170. , 160. ,  95. ,  97. ,  85. ,  88. ,  46. ,  87. ,  90. ,\n",
              "       113. , 200. , 210. , 193. ,  93.5, 100. , 105. , 175. , 153. ,\n",
              "       180. , 110. ,  72. ,  86. ,  70. ,  76. ,  65. ,  69. ,  60. ,\n",
              "        80. ,  54. , 208. , 155. , 112. ,  92. , 145. , 137. , 158. ,\n",
              "       167. ,  94. , 107. , 230. ,  49. ,  75. ,  91. , 122. ,  67. ,\n",
              "        83. ,  78. ,  52. ,  61. ,  93. , 148. , 129. ,  96. ,  71. ,\n",
              "        98. , 115. ,  53. ,  81. ,  79. , 120. , 152. , 102. , 108. ,\n",
              "        68. ,  58. , 149. ,  89. ,  63. ,  48. ,  66. , 139. , 103. ,\n",
              "       125. , 133. , 138. , 135. , 142. ,  77. ,  62. , 132. ,  84. ,\n",
              "        64. ,  74. , 116. ,  82. ])"
            ]
          },
          "metadata": {},
          "execution_count": 11
        }
      ]
    },
    {
      "cell_type": "markdown",
      "source": [
        "# Exploratory Data Analysis - Answering Business Questions"
      ],
      "metadata": {
        "id": "zdXtn6M3DrTO"
      }
    },
    {
      "cell_type": "markdown",
      "source": [
        "**1. What is the most common number of cylinders? Determine the average MPG for cars with the number obtained**\n",
        "\n",
        "Here, the value counts for 'cylinders' is calculated, then the frequent value is found. After that, the DataFrame is filtered and the average MPG is calculated using the filtered data."
      ],
      "metadata": {
        "id": "4uOCz3aZEcfK"
      }
    },
    {
      "cell_type": "code",
      "source": [
        "cylinder_counts = df_org['cylinders'].value_counts()\n",
        "most_common_cylinders = cylinder_counts.index[0]\n",
        "df_most_common_cylinders = df_org[df_org['cylinders'] == most_common_cylinders]\n",
        "average_mpg_most_common_cylinders = df_most_common_cylinders['mpg'].mean()\n",
        "\n",
        "print(f\"Most common number of cylinders:, {most_common_cylinders}\")\n",
        "print(f\"Average MPG for cars with the most common number of cylinders:, {average_mpg_most_common_cylinders:.2f}\")"
      ],
      "metadata": {
        "colab": {
          "base_uri": "https://localhost:8080/"
        },
        "id": "V52gPK_JEaEN",
        "outputId": "cac5b8f2-791b-485b-bfe7-0914f2fee3e6"
      },
      "execution_count": null,
      "outputs": [
        {
          "output_type": "stream",
          "name": "stdout",
          "text": [
            "Most common number of cylinders:, 4\n",
            "Average MPG for cars with the most common number of cylinders:, 29.29\n"
          ]
        }
      ]
    },
    {
      "cell_type": "code",
      "source": [
        "print(\"Bar plot illustrating the distribution of cars based on the number of cylinders:\")\n",
        "\n",
        "sns.set(style=\"whitegrid\")\n",
        "plt.figure(figsize=(8,6))\n",
        "colors = ['skyblue'] * len(cylinder_counts)\n",
        "most_common_index = cylinder_counts.index.get_loc(most_common_cylinders)\n",
        "colors[most_common_index] = 'red'\n",
        "plt.bar(cylinder_counts.index, cylinder_counts.values, color=colors)\n",
        "plt.xlabel('Number of Cylinders')\n",
        "plt.ylabel('Count')\n",
        "plt.title('Distribution of Cars Based on the Number of Cylinders')\n",
        "plt.show()\n"
      ],
      "metadata": {
        "colab": {
          "base_uri": "https://localhost:8080/",
          "height": 550
        },
        "id": "0KbWzCPTmRM1",
        "outputId": "9b2949ec-0e64-462e-f83c-df51286859aa"
      },
      "execution_count": null,
      "outputs": [
        {
          "output_type": "stream",
          "name": "stdout",
          "text": [
            "Bar plot illustrating the distribution of cars based on the number of cylinders:\n"
          ]
        },
        {
          "output_type": "display_data",
          "data": {
            "text/plain": [
              "<Figure size 800x600 with 1 Axes>"
            ],
            "image/png": "[encoded data removed]"
          },
          "metadata": {}
        }
      ]
    },
    {
      "cell_type": "markdown",
      "source": [
        "In summary, a large proportion of cars in this dataset are 4-cylinder vehicles, and the average miles per gallon (mpg) for these cars is approximately 29.29"
      ],
      "metadata": {
        "id": "xznbeysGBzeT"
      }
    },
    {
      "cell_type": "markdown",
      "source": [
        "**2. What are the top 3 car manufacturers with the highest average horsepower**\n",
        "\n",
        "Manufacturers can be found in the 'name' column. Hence the average horsepower for each manufacturer is calculated and sorted. The top 3 will then be identified as the top 3 car manufacturers with the highest average horsepower."
      ],
      "metadata": {
        "id": "4k4148GcHYTK"
      }
    },
    {
      "cell_type": "code",
      "source": [
        "df_org['manufacturer'] = df_org['name'].apply(lambda x: x.split()[0])\n",
        "average_horsepower_by_manufacturer = df_org.groupby('manufacturer')['horsepower'].mean()\n",
        "top_3_manufacturers = average_horsepower_by_manufacturer.sort_values(ascending=False).head(3)\n",
        "\n",
        "print(\"Top 3 car manufacturers with the highest average horsepower:\")\n",
        "print(top_3_manufacturers)"
      ],
      "metadata": {
        "colab": {
          "base_uri": "https://localhost:8080/"
        },
        "id": "WdwI9wo4eutZ",
        "outputId": "308612fd-b65e-45c8-88f6-38a874854ef7"
      },
      "execution_count": null,
      "outputs": [
        {
          "output_type": "stream",
          "name": "stdout",
          "text": [
            "Top 3 car manufacturers with the highest average horsepower:\n",
            "manufacturer\n",
            "hi          193.000000\n",
            "chrysler    153.666667\n",
            "cadillac    152.500000\n",
            "Name: horsepower, dtype: float64\n"
          ]
        }
      ]
    },
    {
      "cell_type": "code",
      "source": [
        "print(\"Bar plot illustrating the average horsepower of top 10 manufacturers:\")\n",
        "\n",
        "sns.set(style=\"whitegrid\")\n",
        "plt.figure(figsize=(12,6))\n",
        "top_10_manufacturers = average_horsepower_by_manufacturer.sort_values(ascending=False).head(10)\n",
        "sns.barplot(x=top_10_manufacturers.index, y=top_10_manufacturers.values, hue=top_10_manufacturers.index, palette=\"viridis\", legend=False)\n",
        "plt.title('Average Horsepower of Top 10 Manufacturers')\n",
        "plt.xlabel('Manufacturer')\n",
        "plt.ylabel('Average Horsepower')\n",
        "plt.xticks(rotation=45, ha='right')\n",
        "plt.tight_layout()\n",
        "plt.show()"
      ],
      "metadata": {
        "colab": {
          "base_uri": "https://localhost:8080/",
          "height": 345
        },
        "id": "2kgDFllZpYqb",
        "outputId": "a69f9fd4-a677-484f-cbf5-78603dad6a72"
      },
      "execution_count": null,
      "outputs": [
        {
          "output_type": "stream",
          "name": "stdout",
          "text": [
            "Bar plot illustrating the average horsepower of top 10 manufacturers:\n"
          ]
        },
        {
          "output_type": "display_data",
          "data": {
            "text/plain": [
              "<Figure size 1200x600 with 1 Axes>"
            ],
            "image/png": "[encoded data removed]"
          },
          "metadata": {}
        }
      ]
    },
    {
      "cell_type": "markdown",
      "source": [
        "The results clearly indicate that hi leads with an average horsepower of 193 with chrysler and cadillac following with 153.67 and 152.50 respectively"
      ],
      "metadata": {
        "id": "f4Ns8FZoJ6xL"
      }
    },
    {
      "cell_type": "markdown",
      "source": [
        "**3. The percentage of cars with above-average MPG for each origin**\n",
        "\n",
        "First the overall average MPG is calculated then a boolean column indicating above-range MPG is created. The mean of this boolean column is then calculated by means of grouping by origin."
      ],
      "metadata": {
        "id": "YbIMaNcNhIX_"
      }
    },
    {
      "cell_type": "code",
      "source": [
        "overall_average_mpg = df_org['mpg'].mean()\n",
        "df_org['above_average_mpg'] = df_org['mpg'] > overall_average_mpg\n",
        "percentage_above_average_mpg_by_origin = df_org.groupby('origin')['above_average_mpg'].mean() * 100\n",
        "\n",
        "print(\"Percentage of cars with above-average MPG for each origin:\")\n",
        "print(percentage_above_average_mpg_by_origin)"
      ],
      "metadata": {
        "colab": {
          "base_uri": "https://localhost:8080/"
        },
        "id": "J65Jv_5YftIr",
        "outputId": "03a5be83-b31c-4c64-ee83-a46a4ffa8036"
      },
      "execution_count": null,
      "outputs": [
        {
          "output_type": "stream",
          "name": "stdout",
          "text": [
            "Percentage of cars with above-average MPG for each origin:\n",
            "origin\n",
            "europe    75.714286\n",
            "japan     87.341772\n",
            "usa       26.907631\n",
            "Name: above_average_mpg, dtype: float64\n"
          ]
        }
      ]
    },
    {
      "cell_type": "code",
      "source": [
        "import matplotlib.pyplot as plt\n",
        "import seaborn as sns\n",
        "\n",
        "sns.set(style=\"whitegrid\")\n",
        "plt.figure(figsize=(8, 6))\n",
        "sns.barplot(x=percentage_above_average_mpg_by_origin.index, y=percentage_above_average_mpg_by_origin.values, hue=percentage_above_average_mpg_by_origin.index, palette='inferno', legend=False)\n",
        "plt.title('Percentage of Cars with Above-Average MPG by Origin')\n",
        "plt.xlabel('Origin')\n",
        "plt.ylabel('Percentage (%)')\n",
        "plt.ylim(0,100)\n",
        "plt.show()"
      ],
      "metadata": {
        "colab": {
          "base_uri": "https://localhost:8080/",
          "height": 512
        },
        "id": "r0EHJXW8rh5m",
        "outputId": "4820550c-fc05-4590-f741-cd8804b2d7ba"
      },
      "execution_count": null,
      "outputs": [
        {
          "output_type": "display_data",
          "data": {
            "text/plain": [
              "<Figure size 800x600 with 1 Axes>"
            ],
            "image/png": "[encoded data removed]"
          },
          "metadata": {}
        }
      ]
    },
    {
      "cell_type": "markdown",
      "source": [
        "This implies that cars from Japan and Europe tend to have better fuel efficiency(relative to overall average) than cars from the USA"
      ],
      "metadata": {
        "id": "m3Qz-eIeOg0w"
      }
    },
    {
      "cell_type": "markdown",
      "source": [
        "**4. Determine the range of weights for cars from each origin**\n",
        "\n",
        "This is done by calculating the minimum and maximum weight for each origin."
      ],
      "metadata": {
        "id": "hAWYRtLwjyoL"
      }
    },
    {
      "cell_type": "code",
      "source": [
        "weight_range_by_origin = df_org.groupby('origin')['weight'].agg(['min', 'max'])\n",
        "\n",
        "print(\"Range of weights for cars from each origin:\")\n",
        "print(weight_range_by_origin)"
      ],
      "metadata": {
        "colab": {
          "base_uri": "https://localhost:8080/"
        },
        "id": "blG07InOjqfn",
        "outputId": "82acba6a-79f8-4e88-a3d6-f921f66c2744"
      },
      "execution_count": null,
      "outputs": [
        {
          "output_type": "stream",
          "name": "stdout",
          "text": [
            "Range of weights for cars from each origin:\n",
            "         min   max\n",
            "origin            \n",
            "europe  1825  3820\n",
            "japan   1613  2930\n",
            "usa     1800  5140\n"
          ]
        }
      ]
    },
    {
      "cell_type": "code",
      "source": [
        "print(\"Grouped bar plot illustrating the range of weights for cars from each origin:\")\n",
        "\n",
        "sns.set(style=\"whitegrid\")\n",
        "plt.figure(figsize=(10,6))\n",
        "bar_width = 0.35\n",
        "index = np.arange(len(weight_range_by_origin.index))\n",
        "plt.bar(index, weight_range_by_origin['min'], bar_width, label='Min Weight', color='green')\n",
        "plt.bar(index + bar_width, weight_range_by_origin['max'], bar_width, label='Max Weight', color='orange')\n",
        "plt.title('Range of Weights for Cars from Each Origin')\n",
        "plt.xlabel('Origin')\n",
        "plt.ylabel('Weight Range')\n",
        "plt.xticks(index + bar_width/2, weight_range_by_origin.index)\n",
        "plt.legend()\n",
        "plt.show()"
      ],
      "metadata": {
        "colab": {
          "base_uri": "https://localhost:8080/",
          "height": 456
        },
        "id": "3iHHgVhasdcy",
        "outputId": "56190662-ccaf-4054-d3c1-71ced0bfc2e5"
      },
      "execution_count": null,
      "outputs": [
        {
          "output_type": "stream",
          "name": "stdout",
          "text": [
            "Grouped bar plot illustrating the range of weights for cars from each origin:\n"
          ]
        },
        {
          "output_type": "display_data",
          "data": {
            "text/plain": [
              "<Figure size 1000x600 with 1 Axes>"
            ],
            "image/png": "[encoded data removed]"
          },
          "metadata": {}
        }
      ]
    },
    {
      "cell_type": "markdown",
      "source": [
        "In summary, the results show that cars from Japan in this dataset are generally the lightest with the least variation in weight, while cars from the USA cover the widest range of weights, including the heaviest vehicles."
      ],
      "metadata": {
        "id": "d4rOxRInP23R"
      }
    },
    {
      "cell_type": "markdown",
      "source": [
        "**5. Find the year with the largest improvement in average mpg compared to the previous year.**\n",
        "\n",
        "The average MPG for each year is calculated and the year with the largest improvement compared to the previous year is identified."
      ],
      "metadata": {
        "id": "2Peo7S7skabT"
      }
    },
    {
      "cell_type": "code",
      "source": [
        "average_mpg_by_year = df_org.groupby('model_year')['mpg'].mean()\n",
        "mpg_improvement = average_mpg_by_year.diff()\n",
        "year_with_largest_improvement = mpg_improvement.idxmax()\n",
        "\n",
        "print(\"Year with the largest improvement in average mpg compared to the previous year:\", year_with_largest_improvement)"
      ],
      "metadata": {
        "colab": {
          "base_uri": "https://localhost:8080/"
        },
        "id": "xwCJvw8skEDB",
        "outputId": "56d72a39-75c0-4938-d66b-a2eb8d3ae1d1"
      },
      "execution_count": null,
      "outputs": [
        {
          "output_type": "stream",
          "name": "stdout",
          "text": [
            "Year with the largest improvement in average mpg compared to the previous year: 80\n"
          ]
        }
      ]
    },
    {
      "cell_type": "code",
      "source": [
        "print(\"Line plot illustrating the improvement in average mpg over the years:\")\n",
        "\n",
        "sns.set(style=\"whitegrid\")\n",
        "plt.figure(figsize=(10,6))\n",
        "plt.plot(mpg_improvement.index, mpg_improvement.values, marker='o', linestyle='-', color='violet')\n",
        "plt.scatter(year_with_largest_improvement, mpg_improvement.loc[year_with_largest_improvement], color='yellow', s=100, label=f'Largest Improvemnt ({year_with_largest_improvement})')\n",
        "plt.title('Improvement in Average MPG over the Years')\n",
        "plt.xlabel('Model Year')\n",
        "plt.ylabel('Improvement in Average MPG')\n",
        "plt.xticks(mpg_improvement.index)\n",
        "plt.grid(True)\n",
        "plt.legend()\n",
        "plt.show()"
      ],
      "metadata": {
        "colab": {
          "base_uri": "https://localhost:8080/",
          "height": 444
        },
        "id": "Sxo1ui2XvgKi",
        "outputId": "bc546976-3086-4eda-d07b-08c3a1dadaf7"
      },
      "execution_count": null,
      "outputs": [
        {
          "output_type": "stream",
          "name": "stdout",
          "text": [
            "Line plot illustrating the improvement in average mpg over the years:\n"
          ]
        },
        {
          "output_type": "display_data",
          "data": {
            "text/plain": [
              "<Figure size 1000x600 with 1 Axes>"
            ],
            "image/png": "[encoded data removed]"
          },
          "metadata": {}
        }
      ]
    },
    {
      "cell_type": "markdown",
      "source": [
        "This indicates that the average MPG for cars in model year 80 saw the biggest jump upwards compared to the average MPG in model 79."
      ],
      "metadata": {
        "id": "VGSiqR57Q5Rd"
      }
    },
    {
      "cell_type": "markdown",
      "source": [
        "# Final Discussion\n",
        "\n",
        "**Strengths of the Analysis**\n",
        "\n",
        "The analysis performed well in answering the client's business questions. The initial data loading and exploration provided a clear understanding of the data obtained. the initial exploration also indicated that there were missing values in the 'horsepower' column. And through data preprocessing stage, the missing values were handled by imputing the median which helped ensure the reliability of subsequent calculations and analyses.\n",
        "\n",
        "The use of visualizations, such as bar and line plots, provided more insight to the findings and making the results easier to interpret to the client.\n",
        "\n",
        "**Limitations of the Analysis**\n",
        "\n",
        "The analysis is based on a limited set of attributes. More data for example specific engine types(V6 or V8), transmission types(manual or automatic) would have been essential in providing deeper insights into the various performance and efficencies of the cars.\n",
        "\n",
        "The dataset provided spans between the years of 1970 and 1982, only focusing on car models from that era. This implies that the findings from this analysis cannot be generalized to apply to modern cars or even cars from another era. The observed characterisics and trends are only specific to the automotive landscape between 1970 and 1982.\n",
        "\n",
        "**Insights and Implications  of the Results for the Business**\n",
        "1. The client should focus on 4-cylinder models. This is because those are the most common in the dataset and they also have ahigh average MPG, showing strong market potential.\n",
        "2. The client should put more effort in targetting high horsepower manufacturers. Brands such as Chrysler and Cadillac are more appealing to performance enthusiasts. Acquiring and restoring these models can command higher auction prices attract buyers.\n",
        "3. Fuel efficiency by origin can be leveraged by the client. Japanese and European cars boast of superior fuel efficiency as compared to American ones. This can be highlighted to attract environmentally-friendly-conscious buyers.\n",
        "4. Capitalization on the 1980 MPG improvement. The notable improvement in 1980 suggests technological advancements. Cars from this year can be positioned as a blend of efficiency and classy appeal.\n",
        "\n",
        "**Data-driven Recommendations**\n",
        "\n",
        "In order to provide more insight and refine business strategies, the following should be considered fore deeper analysis:\n",
        "\n",
        "1. Profitabilty analysis: Historical sales data(if available) should be examined to evaluate the profitability of selling cars based on the cylinder count, origin, manufacturer, or model year.\n",
        "2. Market demand analysis: External market trends or targeted surveys should be explored to gauge buyer preferences for classic cars. Understanding demand for specific features or styles can offer guidance to both restoration priorities and marketing strategies.\n",
        "3. Detailed Engine Analysis: Performance and fuel efficiency of specific engine types(for example V6 vs V8 within the same brand) can be analyzed if more detailed data is available. This will enhance acquisition strategies and appeal to enthusiasts with specific performance preferences."
      ],
      "metadata": {
        "id": "EF70FiOE-MO8"
      }
    },
    {
      "cell_type": "markdown",
      "source": [
        "# Conclusion\n",
        "This Exploratory Data Analysis effectively achieved the aim of answering the questions posed by the client. The findings can equip the client with the foundation to make decisions regarding vehicle acquisition, restoration priorities, and marketing strategies. These insights can also position the client to capitalize on lucrative segments within the 1970s and early 1980s classic car market. However, deeper and more targeted insights could have beeen uncovered with additional detailed or market-specific data."
      ],
      "metadata": {
        "id": "mmFD3AWUU3Yx"
      }
    }
  ]
}